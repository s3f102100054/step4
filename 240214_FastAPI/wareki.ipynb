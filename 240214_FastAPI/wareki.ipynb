{
 "cells": [
  {
   "cell_type": "code",
   "execution_count": 1,
   "id": "99d21d36",
   "metadata": {},
   "outputs": [],
   "source": [
    "import requests  # import"
   ]
  },
  {
   "cell_type": "code",
   "execution_count": 2,
   "id": "8bb9ebc3",
   "metadata": {},
   "outputs": [],
   "source": [
    "FastAPI_url = 'http://127.0.0.1:8001/wareki'  # FastAPI /  port 8001"
   ]
  },
  {
   "cell_type": "code",
   "execution_count": 6,
   "id": "339a8ff9",
   "metadata": {},
   "outputs": [],
   "source": [
    "body = {\n",
    "    \"year\" : 2024\n",
    "}"
   ]
  },
  {
   "cell_type": "code",
   "execution_count": 7,
   "id": "aa8722b4",
   "metadata": {},
   "outputs": [],
   "source": [
    "res_fastapi = requests.post(FastAPI_url,json = body)"
   ]
  },
  {
   "cell_type": "code",
   "execution_count": 8,
   "id": "f8d31397",
   "metadata": {},
   "outputs": [
    {
     "data": {
      "text/plain": [
       "{'wareki': '令和6年'}"
      ]
     },
     "execution_count": 8,
     "metadata": {},
     "output_type": "execute_result"
    }
   ],
   "source": [
    "res_fastapi .json()"
   ]
  }
 ],
 "metadata": {
  "kernelspec": {
   "display_name": "Python 3 (ipykernel)",
   "language": "python",
   "name": "python3"
  },
  "language_info": {
   "codemirror_mode": {
    "name": "ipython",
    "version": 3
   },
   "file_extension": ".py",
   "mimetype": "text/x-python",
   "name": "python",
   "nbconvert_exporter": "python",
   "pygments_lexer": "ipython3",
   "version": "3.11.1"
  }
 },
 "nbformat": 4,
 "nbformat_minor": 5
}
